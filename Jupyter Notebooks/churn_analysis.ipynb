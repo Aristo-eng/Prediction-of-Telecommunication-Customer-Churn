{
 "cells": [
  {
   "cell_type": "markdown",
   "metadata": {},
   "source": [
    "## Project: Analysis and Classification of customer churn in telecommunication companies\n",
    "\n",
    "### Author: Munezero Mihigo\n",
    "\n",
    "### Date: 13 November 2021"
   ]
  },
  {
   "cell_type": "markdown",
   "metadata": {},
   "source": [
    "## Project Objective\n",
    "\n",
    "### The objective of the task is to predict whether the customer will churn or not."
   ]
  },
  {
   "cell_type": "markdown",
   "metadata": {},
   "source": [
    "## General Knowledge\n",
    "\n",
    "### What is a customer churn?\n",
    " customer churn occurs when an existing customer, user, player, subscriber or any kind of return client stops doing business or ends the relationship with a company.\n",
    "\n",
    "### Types of churn\n",
    "\n",
    "#### Contractual churn:\n",
    " Contractual churn occurs when a customer is under contract for a service and decides to cancel their service. <br>Example: Cable TV, SaaS products (Software as a Service e.g. Dropbox).\n",
    "\n",
    "#### Voluntary churn:\n",
    " Voluntary churn occurs when a user voluntarily cancels a service and includes prepaid cell phones, streaming subscriptions.\n",
    "\n",
    "#### Non-contractual churn:\n",
    " Non-contractual churn ocurs when a customer is not under contract for a service and includes customer loyality at a retail location or online browsing.\n",
    "\n",
    "#### Involuntary churn:\n",
    " Involuntary churn occurs when a churn occurs not at the request of the customer. For example: credit card expiration, utilities being shut off by the provider. <br>Most likely, you as a customer have cancelled a service for a variety of reasons including lack of usage, poor service or better price."
   ]
  },
  {
   "cell_type": "markdown",
   "metadata": {},
   "source": [
    "## Step-by-Step Process\n",
    "\n",
    "### 1. data preprocessing\n",
    "### 2. One-hot Encoding\n",
    "### 3. Data Transformation (StandardScaler or MinMaxScaler)\n",
    "### 4. Grid Search and Cross-Validation with Decision Tree Classifier\n",
    "### 5. Tree diagram of the Decision Tree\n",
    "### 6. Confusion Matrix, Classification report, and ROC-AUCdata preprocessing"
   ]
  },
  {
   "cell_type": "markdown",
   "metadata": {},
   "source": [
    "#### Import libraries"
   ]
  },
  {
   "cell_type": "code",
   "execution_count": 19,
   "metadata": {},
   "outputs": [],
   "source": [
    "import pandas as pd\n",
    "import numpy as np\n",
    "import matplotlib.pyplot as plt\n",
    "from sklearn.preprocessing import StandardScaler, MinMaxScaler\n",
    "from sklearn.model_selection import train_test_split, GridSearchCV\n",
    "from sklearn.tree import DecisionTreeClassifier, plot_tree\n",
    "from sklearn.metrics import accuracy_score, classification_report, confusion_matrix\n",
    "from sklearn.metrics import roc_curve, roc_auc_score, precision_score, recall_score, f1_score\n",
    "from sklearn.metrics import plot_confusion_matrix\n",
    "\n",
    "import warnings\n",
    "warnings.filterwarnings('ignore')"
   ]
  },
  {
   "cell_type": "markdown",
   "metadata": {},
   "source": []
  },
  {
   "cell_type": "code",
   "execution_count": null,
   "metadata": {},
   "outputs": [],
   "source": []
  }
 ],
 "metadata": {
  "interpreter": {
   "hash": "40c2fac8deeaeec80c11f86338dc80eaddcd45c6ab0761f221b780b5a4c0da1b"
  },
  "kernelspec": {
   "display_name": "Python 3.8.8 64-bit ('base': conda)",
   "name": "python3"
  },
  "language_info": {
   "codemirror_mode": {
    "name": "ipython",
    "version": 3
   },
   "file_extension": ".py",
   "mimetype": "text/x-python",
   "name": "python",
   "nbconvert_exporter": "python",
   "pygments_lexer": "ipython3",
   "version": "3.8.8"
  },
  "orig_nbformat": 4
 },
 "nbformat": 4,
 "nbformat_minor": 2
}
