{
 "cells": [
  {
   "cell_type": "markdown",
   "metadata": {},
   "source": [
    "## Project: Analysis and Classification of customer churn in telecommunication companies\n",
    "\n",
    "### Author: Munezero Mihigo\n",
    "\n",
    "### Date: 13 November 2021"
   ]
  },
  {
   "cell_type": "markdown",
   "metadata": {},
   "source": [
    "## Project Objective\n",
    "\n",
    "### The objective of the task is to predict whether the customer will churn or not."
   ]
  },
  {
   "cell_type": "markdown",
   "metadata": {},
   "source": [
    "## General Knowledge\n",
    "\n",
    "### What is a customer churn?\n",
    " customer churn occurs when an existing customer, user, player, subscriber or any kind of return client stops doing business or ends the relationship with a company.\n",
    "\n",
    "### Types of churn\n",
    "\n",
    "#### Contractual churn:\n",
    " Contractual churn occurs when a customer is under contract for a service and decides to cancel their service. <br>Example: Cable TV, SaaS products (Software as a Service e.g. Dropbox).\n",
    "\n",
    "#### Voluntary churn:\n",
    " Voluntary churn occurs when a user voluntarily cancels a service and includes prepaid cell phones, streaming subscriptions.\n",
    "\n",
    "#### Non-contractual churn:\n",
    " Non-contractual churn ocurs when a customer is not under contract for a service and includes customer loyality at a retail location or online browsing.\n",
    "\n",
    "#### Involuntary churn:\n",
    " Involuntary churn occurs when a churn occurs not at the request of the customer. For example: credit card expiration, utilities being shut off by the provider. <br>Most likely, you as a customer have cancelled a service for a variety of reasons including lack of usage, poor service or better price."
   ]
  },
  {
   "cell_type": "markdown",
   "metadata": {},
   "source": [
    "## Step-by-Step Process\n",
    "\n",
    "1. data preprocessing <br>\n",
    "2. One-hot Encoding <br>\n",
    "3. Data Transformation (StandardScaler or MinMaxScaler) <br>\n",
    "4. Grid Search and Cross-Validation with Decision Tree Classifier <br>\n",
    "5. Tree diagram of the Decision Tree <br>\n",
    "6. Confusion Matrix, Classification report, and ROC-AUCdata preprocessing <br>"
   ]
  },
  {
   "cell_type": "markdown",
   "metadata": {},
   "source": [
    "#### Import libraries"
   ]
  },
  {
   "cell_type": "code",
   "execution_count": 149,
   "metadata": {},
   "outputs": [],
   "source": [
    "import pandas as pd\n",
    "import numpy as np\n",
    "import matplotlib.pyplot as plt\n",
    "from sklearn.preprocessing import StandardScaler, MinMaxScaler\n",
    "from sklearn.model_selection import train_test_split, GridSearchCV\n",
    "from sklearn.tree import DecisionTreeClassifier, plot_tree\n",
    "from sklearn.metrics import accuracy_score, classification_report, confusion_matrix\n",
    "from sklearn.metrics import roc_curve, roc_auc_score, precision_score, recall_score, f1_score\n",
    "from sklearn.metrics import plot_confusion_matrix\n",
    "\n",
    "import warnings\n",
    "warnings.filterwarnings('ignore')"
   ]
  },
  {
   "cell_type": "code",
   "execution_count": 150,
   "metadata": {},
   "outputs": [
    {
     "data": {
      "text/html": [
       "<div>\n",
       "<style scoped>\n",
       "    .dataframe tbody tr th:only-of-type {\n",
       "        vertical-align: middle;\n",
       "    }\n",
       "\n",
       "    .dataframe tbody tr th {\n",
       "        vertical-align: top;\n",
       "    }\n",
       "\n",
       "    .dataframe thead th {\n",
       "        text-align: right;\n",
       "    }\n",
       "</style>\n",
       "<table border=\"1\" class=\"dataframe\">\n",
       "  <thead>\n",
       "    <tr style=\"text-align: right;\">\n",
       "      <th></th>\n",
       "      <th>Account_Length</th>\n",
       "      <th>Vmail_Message</th>\n",
       "      <th>Day_Mins</th>\n",
       "      <th>Eve_Mins</th>\n",
       "      <th>Night_Mins</th>\n",
       "      <th>Intl_Mins</th>\n",
       "      <th>CustServ_Calls</th>\n",
       "      <th>Churn</th>\n",
       "      <th>Intl_Plan</th>\n",
       "      <th>Vmail_Plan</th>\n",
       "      <th>...</th>\n",
       "      <th>Day_Charge</th>\n",
       "      <th>Eve_Calls</th>\n",
       "      <th>Eve_Charge</th>\n",
       "      <th>Night_Calls</th>\n",
       "      <th>Night_Charge</th>\n",
       "      <th>Intl_Calls</th>\n",
       "      <th>Intl_Charge</th>\n",
       "      <th>State</th>\n",
       "      <th>Area_Code</th>\n",
       "      <th>Phone</th>\n",
       "    </tr>\n",
       "  </thead>\n",
       "  <tbody>\n",
       "    <tr>\n",
       "      <th>0</th>\n",
       "      <td>128</td>\n",
       "      <td>25</td>\n",
       "      <td>265.1</td>\n",
       "      <td>197.4</td>\n",
       "      <td>244.7</td>\n",
       "      <td>10.0</td>\n",
       "      <td>1</td>\n",
       "      <td>no</td>\n",
       "      <td>no</td>\n",
       "      <td>yes</td>\n",
       "      <td>...</td>\n",
       "      <td>45.07</td>\n",
       "      <td>99</td>\n",
       "      <td>16.78</td>\n",
       "      <td>91</td>\n",
       "      <td>11.01</td>\n",
       "      <td>3</td>\n",
       "      <td>2.70</td>\n",
       "      <td>KS</td>\n",
       "      <td>415</td>\n",
       "      <td>382-4657</td>\n",
       "    </tr>\n",
       "    <tr>\n",
       "      <th>1</th>\n",
       "      <td>107</td>\n",
       "      <td>26</td>\n",
       "      <td>161.6</td>\n",
       "      <td>195.5</td>\n",
       "      <td>254.4</td>\n",
       "      <td>13.7</td>\n",
       "      <td>1</td>\n",
       "      <td>no</td>\n",
       "      <td>no</td>\n",
       "      <td>yes</td>\n",
       "      <td>...</td>\n",
       "      <td>27.47</td>\n",
       "      <td>103</td>\n",
       "      <td>16.62</td>\n",
       "      <td>103</td>\n",
       "      <td>11.45</td>\n",
       "      <td>3</td>\n",
       "      <td>3.70</td>\n",
       "      <td>OH</td>\n",
       "      <td>415</td>\n",
       "      <td>371-7191</td>\n",
       "    </tr>\n",
       "    <tr>\n",
       "      <th>2</th>\n",
       "      <td>137</td>\n",
       "      <td>0</td>\n",
       "      <td>243.4</td>\n",
       "      <td>121.2</td>\n",
       "      <td>162.6</td>\n",
       "      <td>12.2</td>\n",
       "      <td>0</td>\n",
       "      <td>no</td>\n",
       "      <td>no</td>\n",
       "      <td>no</td>\n",
       "      <td>...</td>\n",
       "      <td>41.38</td>\n",
       "      <td>110</td>\n",
       "      <td>10.30</td>\n",
       "      <td>104</td>\n",
       "      <td>7.32</td>\n",
       "      <td>5</td>\n",
       "      <td>3.29</td>\n",
       "      <td>NJ</td>\n",
       "      <td>415</td>\n",
       "      <td>358-1921</td>\n",
       "    </tr>\n",
       "    <tr>\n",
       "      <th>3</th>\n",
       "      <td>84</td>\n",
       "      <td>0</td>\n",
       "      <td>299.4</td>\n",
       "      <td>61.9</td>\n",
       "      <td>196.9</td>\n",
       "      <td>6.6</td>\n",
       "      <td>2</td>\n",
       "      <td>no</td>\n",
       "      <td>yes</td>\n",
       "      <td>no</td>\n",
       "      <td>...</td>\n",
       "      <td>50.90</td>\n",
       "      <td>88</td>\n",
       "      <td>5.26</td>\n",
       "      <td>89</td>\n",
       "      <td>8.86</td>\n",
       "      <td>7</td>\n",
       "      <td>1.78</td>\n",
       "      <td>OH</td>\n",
       "      <td>408</td>\n",
       "      <td>375-9999</td>\n",
       "    </tr>\n",
       "    <tr>\n",
       "      <th>4</th>\n",
       "      <td>75</td>\n",
       "      <td>0</td>\n",
       "      <td>166.7</td>\n",
       "      <td>148.3</td>\n",
       "      <td>186.9</td>\n",
       "      <td>10.1</td>\n",
       "      <td>3</td>\n",
       "      <td>no</td>\n",
       "      <td>yes</td>\n",
       "      <td>no</td>\n",
       "      <td>...</td>\n",
       "      <td>28.34</td>\n",
       "      <td>122</td>\n",
       "      <td>12.61</td>\n",
       "      <td>121</td>\n",
       "      <td>8.41</td>\n",
       "      <td>3</td>\n",
       "      <td>2.73</td>\n",
       "      <td>OK</td>\n",
       "      <td>415</td>\n",
       "      <td>330-6626</td>\n",
       "    </tr>\n",
       "  </tbody>\n",
       "</table>\n",
       "<p>5 rows × 21 columns</p>\n",
       "</div>"
      ],
      "text/plain": [
       "   Account_Length  Vmail_Message  Day_Mins  Eve_Mins  Night_Mins  Intl_Mins  \\\n",
       "0             128             25     265.1     197.4       244.7       10.0   \n",
       "1             107             26     161.6     195.5       254.4       13.7   \n",
       "2             137              0     243.4     121.2       162.6       12.2   \n",
       "3              84              0     299.4      61.9       196.9        6.6   \n",
       "4              75              0     166.7     148.3       186.9       10.1   \n",
       "\n",
       "   CustServ_Calls Churn Intl_Plan Vmail_Plan  ...  Day_Charge  Eve_Calls  \\\n",
       "0               1    no        no        yes  ...       45.07         99   \n",
       "1               1    no        no        yes  ...       27.47        103   \n",
       "2               0    no        no         no  ...       41.38        110   \n",
       "3               2    no       yes         no  ...       50.90         88   \n",
       "4               3    no       yes         no  ...       28.34        122   \n",
       "\n",
       "   Eve_Charge  Night_Calls  Night_Charge  Intl_Calls  Intl_Charge  State  \\\n",
       "0       16.78           91         11.01           3         2.70     KS   \n",
       "1       16.62          103         11.45           3         3.70     OH   \n",
       "2       10.30          104          7.32           5         3.29     NJ   \n",
       "3        5.26           89          8.86           7         1.78     OH   \n",
       "4       12.61          121          8.41           3         2.73     OK   \n",
       "\n",
       "  Area_Code     Phone  \n",
       "0       415  382-4657  \n",
       "1       415  371-7191  \n",
       "2       415  358-1921  \n",
       "3       408  375-9999  \n",
       "4       415  330-6626  \n",
       "\n",
       "[5 rows x 21 columns]"
      ]
     },
     "metadata": {},
     "output_type": "display_data"
    }
   ],
   "source": [
    "df = pd.read_csv(\"../Data/Churn_Data_set.csv\")\n",
    "display(df.head(5))"
   ]
  },
  {
   "cell_type": "markdown",
   "metadata": {},
   "source": [
    "### Data Description"
   ]
  },
  {
   "cell_type": "code",
   "execution_count": 151,
   "metadata": {},
   "outputs": [
    {
     "data": {
      "text/html": [
       "<div>\n",
       "<style scoped>\n",
       "    .dataframe tbody tr th:only-of-type {\n",
       "        vertical-align: middle;\n",
       "    }\n",
       "\n",
       "    .dataframe tbody tr th {\n",
       "        vertical-align: top;\n",
       "    }\n",
       "\n",
       "    .dataframe thead th {\n",
       "        text-align: right;\n",
       "    }\n",
       "</style>\n",
       "<table border=\"1\" class=\"dataframe\">\n",
       "  <thead>\n",
       "    <tr style=\"text-align: right;\">\n",
       "      <th></th>\n",
       "      <th>Account_Length</th>\n",
       "      <th>Vmail_Message</th>\n",
       "      <th>Day_Mins</th>\n",
       "      <th>Eve_Mins</th>\n",
       "      <th>Night_Mins</th>\n",
       "      <th>Intl_Mins</th>\n",
       "      <th>CustServ_Calls</th>\n",
       "      <th>Day_Calls</th>\n",
       "      <th>Day_Charge</th>\n",
       "      <th>Eve_Calls</th>\n",
       "      <th>Eve_Charge</th>\n",
       "      <th>Night_Calls</th>\n",
       "      <th>Night_Charge</th>\n",
       "      <th>Intl_Calls</th>\n",
       "      <th>Intl_Charge</th>\n",
       "      <th>Area_Code</th>\n",
       "    </tr>\n",
       "  </thead>\n",
       "  <tbody>\n",
       "    <tr>\n",
       "      <th>count</th>\n",
       "      <td>3333.000000</td>\n",
       "      <td>3333.000000</td>\n",
       "      <td>3333.000000</td>\n",
       "      <td>3333.000000</td>\n",
       "      <td>3333.000000</td>\n",
       "      <td>3333.000000</td>\n",
       "      <td>3333.000000</td>\n",
       "      <td>3333.000000</td>\n",
       "      <td>3333.000000</td>\n",
       "      <td>3333.000000</td>\n",
       "      <td>3333.000000</td>\n",
       "      <td>3333.000000</td>\n",
       "      <td>3333.000000</td>\n",
       "      <td>3333.000000</td>\n",
       "      <td>3333.000000</td>\n",
       "      <td>3333.000000</td>\n",
       "    </tr>\n",
       "    <tr>\n",
       "      <th>mean</th>\n",
       "      <td>101.064806</td>\n",
       "      <td>8.099010</td>\n",
       "      <td>179.775098</td>\n",
       "      <td>200.980348</td>\n",
       "      <td>200.872037</td>\n",
       "      <td>10.237294</td>\n",
       "      <td>1.562856</td>\n",
       "      <td>100.435644</td>\n",
       "      <td>30.562307</td>\n",
       "      <td>100.114311</td>\n",
       "      <td>17.083540</td>\n",
       "      <td>100.107711</td>\n",
       "      <td>9.039325</td>\n",
       "      <td>4.479448</td>\n",
       "      <td>2.764581</td>\n",
       "      <td>437.182418</td>\n",
       "    </tr>\n",
       "    <tr>\n",
       "      <th>std</th>\n",
       "      <td>39.822106</td>\n",
       "      <td>13.688365</td>\n",
       "      <td>54.467389</td>\n",
       "      <td>50.713844</td>\n",
       "      <td>50.573847</td>\n",
       "      <td>2.791840</td>\n",
       "      <td>1.315491</td>\n",
       "      <td>20.069084</td>\n",
       "      <td>9.259435</td>\n",
       "      <td>19.922625</td>\n",
       "      <td>4.310668</td>\n",
       "      <td>19.568609</td>\n",
       "      <td>2.275873</td>\n",
       "      <td>2.461214</td>\n",
       "      <td>0.753773</td>\n",
       "      <td>42.371290</td>\n",
       "    </tr>\n",
       "    <tr>\n",
       "      <th>min</th>\n",
       "      <td>1.000000</td>\n",
       "      <td>0.000000</td>\n",
       "      <td>0.000000</td>\n",
       "      <td>0.000000</td>\n",
       "      <td>23.200000</td>\n",
       "      <td>0.000000</td>\n",
       "      <td>0.000000</td>\n",
       "      <td>0.000000</td>\n",
       "      <td>0.000000</td>\n",
       "      <td>0.000000</td>\n",
       "      <td>0.000000</td>\n",
       "      <td>33.000000</td>\n",
       "      <td>1.040000</td>\n",
       "      <td>0.000000</td>\n",
       "      <td>0.000000</td>\n",
       "      <td>408.000000</td>\n",
       "    </tr>\n",
       "    <tr>\n",
       "      <th>25%</th>\n",
       "      <td>74.000000</td>\n",
       "      <td>0.000000</td>\n",
       "      <td>143.700000</td>\n",
       "      <td>166.600000</td>\n",
       "      <td>167.000000</td>\n",
       "      <td>8.500000</td>\n",
       "      <td>1.000000</td>\n",
       "      <td>87.000000</td>\n",
       "      <td>24.430000</td>\n",
       "      <td>87.000000</td>\n",
       "      <td>14.160000</td>\n",
       "      <td>87.000000</td>\n",
       "      <td>7.520000</td>\n",
       "      <td>3.000000</td>\n",
       "      <td>2.300000</td>\n",
       "      <td>408.000000</td>\n",
       "    </tr>\n",
       "    <tr>\n",
       "      <th>50%</th>\n",
       "      <td>101.000000</td>\n",
       "      <td>0.000000</td>\n",
       "      <td>179.400000</td>\n",
       "      <td>201.400000</td>\n",
       "      <td>201.200000</td>\n",
       "      <td>10.300000</td>\n",
       "      <td>1.000000</td>\n",
       "      <td>101.000000</td>\n",
       "      <td>30.500000</td>\n",
       "      <td>100.000000</td>\n",
       "      <td>17.120000</td>\n",
       "      <td>100.000000</td>\n",
       "      <td>9.050000</td>\n",
       "      <td>4.000000</td>\n",
       "      <td>2.780000</td>\n",
       "      <td>415.000000</td>\n",
       "    </tr>\n",
       "    <tr>\n",
       "      <th>75%</th>\n",
       "      <td>127.000000</td>\n",
       "      <td>20.000000</td>\n",
       "      <td>216.400000</td>\n",
       "      <td>235.300000</td>\n",
       "      <td>235.300000</td>\n",
       "      <td>12.100000</td>\n",
       "      <td>2.000000</td>\n",
       "      <td>114.000000</td>\n",
       "      <td>36.790000</td>\n",
       "      <td>114.000000</td>\n",
       "      <td>20.000000</td>\n",
       "      <td>113.000000</td>\n",
       "      <td>10.590000</td>\n",
       "      <td>6.000000</td>\n",
       "      <td>3.270000</td>\n",
       "      <td>510.000000</td>\n",
       "    </tr>\n",
       "    <tr>\n",
       "      <th>max</th>\n",
       "      <td>243.000000</td>\n",
       "      <td>51.000000</td>\n",
       "      <td>350.800000</td>\n",
       "      <td>363.700000</td>\n",
       "      <td>395.000000</td>\n",
       "      <td>20.000000</td>\n",
       "      <td>9.000000</td>\n",
       "      <td>165.000000</td>\n",
       "      <td>59.640000</td>\n",
       "      <td>170.000000</td>\n",
       "      <td>30.910000</td>\n",
       "      <td>175.000000</td>\n",
       "      <td>17.770000</td>\n",
       "      <td>20.000000</td>\n",
       "      <td>5.400000</td>\n",
       "      <td>510.000000</td>\n",
       "    </tr>\n",
       "  </tbody>\n",
       "</table>\n",
       "</div>"
      ],
      "text/plain": [
       "       Account_Length  Vmail_Message     Day_Mins     Eve_Mins   Night_Mins  \\\n",
       "count     3333.000000    3333.000000  3333.000000  3333.000000  3333.000000   \n",
       "mean       101.064806       8.099010   179.775098   200.980348   200.872037   \n",
       "std         39.822106      13.688365    54.467389    50.713844    50.573847   \n",
       "min          1.000000       0.000000     0.000000     0.000000    23.200000   \n",
       "25%         74.000000       0.000000   143.700000   166.600000   167.000000   \n",
       "50%        101.000000       0.000000   179.400000   201.400000   201.200000   \n",
       "75%        127.000000      20.000000   216.400000   235.300000   235.300000   \n",
       "max        243.000000      51.000000   350.800000   363.700000   395.000000   \n",
       "\n",
       "         Intl_Mins  CustServ_Calls    Day_Calls   Day_Charge    Eve_Calls  \\\n",
       "count  3333.000000     3333.000000  3333.000000  3333.000000  3333.000000   \n",
       "mean     10.237294        1.562856   100.435644    30.562307   100.114311   \n",
       "std       2.791840        1.315491    20.069084     9.259435    19.922625   \n",
       "min       0.000000        0.000000     0.000000     0.000000     0.000000   \n",
       "25%       8.500000        1.000000    87.000000    24.430000    87.000000   \n",
       "50%      10.300000        1.000000   101.000000    30.500000   100.000000   \n",
       "75%      12.100000        2.000000   114.000000    36.790000   114.000000   \n",
       "max      20.000000        9.000000   165.000000    59.640000   170.000000   \n",
       "\n",
       "        Eve_Charge  Night_Calls  Night_Charge   Intl_Calls  Intl_Charge  \\\n",
       "count  3333.000000  3333.000000   3333.000000  3333.000000  3333.000000   \n",
       "mean     17.083540   100.107711      9.039325     4.479448     2.764581   \n",
       "std       4.310668    19.568609      2.275873     2.461214     0.753773   \n",
       "min       0.000000    33.000000      1.040000     0.000000     0.000000   \n",
       "25%      14.160000    87.000000      7.520000     3.000000     2.300000   \n",
       "50%      17.120000   100.000000      9.050000     4.000000     2.780000   \n",
       "75%      20.000000   113.000000     10.590000     6.000000     3.270000   \n",
       "max      30.910000   175.000000     17.770000    20.000000     5.400000   \n",
       "\n",
       "         Area_Code  \n",
       "count  3333.000000  \n",
       "mean    437.182418  \n",
       "std      42.371290  \n",
       "min     408.000000  \n",
       "25%     408.000000  \n",
       "50%     415.000000  \n",
       "75%     510.000000  \n",
       "max     510.000000  "
      ]
     },
     "execution_count": 151,
     "metadata": {},
     "output_type": "execute_result"
    }
   ],
   "source": [
    "df.describe()"
   ]
  },
  {
   "cell_type": "markdown",
   "metadata": {},
   "source": [
    "### Data Preprocessing"
   ]
  },
  {
   "cell_type": "code",
   "execution_count": 152,
   "metadata": {},
   "outputs": [
    {
     "name": "stdout",
     "output_type": "stream",
     "text": [
      "<class 'pandas.core.frame.DataFrame'>\n",
      "RangeIndex: 3333 entries, 0 to 3332\n",
      "Data columns (total 18 columns):\n",
      " #   Column          Non-Null Count  Dtype  \n",
      "---  ------          --------------  -----  \n",
      " 0   Account_Length  3333 non-null   int64  \n",
      " 1   Vmail_Message   3333 non-null   int64  \n",
      " 2   Day_Mins        3333 non-null   float64\n",
      " 3   Eve_Mins        3333 non-null   float64\n",
      " 4   Night_Mins      3333 non-null   float64\n",
      " 5   Intl_Mins       3333 non-null   float64\n",
      " 6   CustServ_Calls  3333 non-null   int64  \n",
      " 7   Churn           3333 non-null   object \n",
      " 8   Intl_Plan       3333 non-null   object \n",
      " 9   Vmail_Plan      3333 non-null   object \n",
      " 10  Day_Calls       3333 non-null   int64  \n",
      " 11  Day_Charge      3333 non-null   float64\n",
      " 12  Eve_Calls       3333 non-null   int64  \n",
      " 13  Eve_Charge      3333 non-null   float64\n",
      " 14  Night_Calls     3333 non-null   int64  \n",
      " 15  Night_Charge    3333 non-null   float64\n",
      " 16  Intl_Calls      3333 non-null   int64  \n",
      " 17  Intl_Charge     3333 non-null   float64\n",
      "dtypes: float64(8), int64(7), object(3)\n",
      "memory usage: 468.8+ KB\n"
     ]
    }
   ],
   "source": [
    "df = df.drop(['State', 'Area_Code', 'Phone'], axis=1)\n",
    "df.info()"
   ]
  },
  {
   "cell_type": "markdown",
   "metadata": {},
   "source": [
    "### Categorical Variables"
   ]
  },
  {
   "cell_type": "code",
   "execution_count": 153,
   "metadata": {},
   "outputs": [
    {
     "name": "stdout",
     "output_type": "stream",
     "text": [
      "['yes' 'no']\n",
      "2\n"
     ]
    },
    {
     "data": {
      "text/plain": [
       "no     2411\n",
       "yes     922\n",
       "Name: Vmail_Plan, dtype: int64"
      ]
     },
     "metadata": {},
     "output_type": "display_data"
    }
   ],
   "source": [
    "print(df['Vmail_Plan'].unique())\n",
    "print(len(df['Vmail_Plan'].unique()))\n",
    "display(df['Vmail_Plan'].value_counts())"
   ]
  },
  {
   "cell_type": "code",
   "execution_count": 154,
   "metadata": {},
   "outputs": [
    {
     "name": "stdout",
     "output_type": "stream",
     "text": [
      "['no' 'yes']\n",
      "2\n"
     ]
    },
    {
     "data": {
      "text/plain": [
       "no     3010\n",
       "yes     323\n",
       "Name: Intl_Plan, dtype: int64"
      ]
     },
     "metadata": {},
     "output_type": "display_data"
    }
   ],
   "source": [
    "print(df['Intl_Plan'].unique())\n",
    "print(len(df['Intl_Plan'].unique()))\n",
    "display(df['Intl_Plan'].value_counts())"
   ]
  },
  {
   "cell_type": "code",
   "execution_count": 155,
   "metadata": {},
   "outputs": [
    {
     "name": "stdout",
     "output_type": "stream",
     "text": [
      "['no' 'yes']\n",
      "2\n"
     ]
    },
    {
     "data": {
      "text/plain": [
       "no     2850\n",
       "yes     483\n",
       "Name: Churn, dtype: int64"
      ]
     },
     "metadata": {},
     "output_type": "display_data"
    }
   ],
   "source": [
    "print(df['Churn'].unique())\n",
    "print(len(df['Churn'].unique()))\n",
    "display(df['Churn'].value_counts())"
   ]
  },
  {
   "cell_type": "markdown",
   "metadata": {},
   "source": [
    "### Findings\n",
    "- The number of categorial feature is 2.\n",
    "- The categorical feature isn't ordinal."
   ]
  },
  {
   "cell_type": "markdown",
   "metadata": {},
   "source": [
    "### One-Hot Encoding\n",
    "One-Hot Encoding works better for this dataset. Because the 'Vmail_Plan' & 'Intl_Plan' features and 'Churn' target aren't ordinal and the number of categorical feature is less as it's shown above. That's why One-Hot Encoding is applied in this dataset. "
   ]
  },
  {
   "cell_type": "code",
   "execution_count": 156,
   "metadata": {},
   "outputs": [
    {
     "data": {
      "text/html": [
       "<div>\n",
       "<style scoped>\n",
       "    .dataframe tbody tr th:only-of-type {\n",
       "        vertical-align: middle;\n",
       "    }\n",
       "\n",
       "    .dataframe tbody tr th {\n",
       "        vertical-align: top;\n",
       "    }\n",
       "\n",
       "    .dataframe thead th {\n",
       "        text-align: right;\n",
       "    }\n",
       "</style>\n",
       "<table border=\"1\" class=\"dataframe\">\n",
       "  <thead>\n",
       "    <tr style=\"text-align: right;\">\n",
       "      <th></th>\n",
       "      <th>Account_Length</th>\n",
       "      <th>Vmail_Message</th>\n",
       "      <th>Day_Mins</th>\n",
       "      <th>Eve_Mins</th>\n",
       "      <th>Night_Mins</th>\n",
       "      <th>Intl_Mins</th>\n",
       "      <th>CustServ_Calls</th>\n",
       "      <th>Day_Calls</th>\n",
       "      <th>Day_Charge</th>\n",
       "      <th>Eve_Calls</th>\n",
       "      <th>Eve_Charge</th>\n",
       "      <th>Night_Calls</th>\n",
       "      <th>Night_Charge</th>\n",
       "      <th>Intl_Calls</th>\n",
       "      <th>Intl_Charge</th>\n",
       "      <th>Churn_yes</th>\n",
       "      <th>Intl_Plan_yes</th>\n",
       "      <th>Vmail_Plan_yes</th>\n",
       "    </tr>\n",
       "  </thead>\n",
       "  <tbody>\n",
       "    <tr>\n",
       "      <th>3063</th>\n",
       "      <td>63</td>\n",
       "      <td>25</td>\n",
       "      <td>190.0</td>\n",
       "      <td>116.6</td>\n",
       "      <td>141.5</td>\n",
       "      <td>12.2</td>\n",
       "      <td>1</td>\n",
       "      <td>137</td>\n",
       "      <td>32.30</td>\n",
       "      <td>76</td>\n",
       "      <td>9.91</td>\n",
       "      <td>110</td>\n",
       "      <td>6.37</td>\n",
       "      <td>2</td>\n",
       "      <td>3.29</td>\n",
       "      <td>0</td>\n",
       "      <td>0</td>\n",
       "      <td>1</td>\n",
       "    </tr>\n",
       "    <tr>\n",
       "      <th>1294</th>\n",
       "      <td>66</td>\n",
       "      <td>0</td>\n",
       "      <td>87.6</td>\n",
       "      <td>262.0</td>\n",
       "      <td>184.6</td>\n",
       "      <td>9.2</td>\n",
       "      <td>1</td>\n",
       "      <td>76</td>\n",
       "      <td>14.89</td>\n",
       "      <td>111</td>\n",
       "      <td>22.27</td>\n",
       "      <td>125</td>\n",
       "      <td>8.31</td>\n",
       "      <td>5</td>\n",
       "      <td>2.48</td>\n",
       "      <td>0</td>\n",
       "      <td>0</td>\n",
       "      <td>0</td>\n",
       "    </tr>\n",
       "    <tr>\n",
       "      <th>2325</th>\n",
       "      <td>110</td>\n",
       "      <td>0</td>\n",
       "      <td>271.1</td>\n",
       "      <td>237.0</td>\n",
       "      <td>239.9</td>\n",
       "      <td>9.8</td>\n",
       "      <td>2</td>\n",
       "      <td>108</td>\n",
       "      <td>46.09</td>\n",
       "      <td>122</td>\n",
       "      <td>20.15</td>\n",
       "      <td>122</td>\n",
       "      <td>10.80</td>\n",
       "      <td>5</td>\n",
       "      <td>2.65</td>\n",
       "      <td>1</td>\n",
       "      <td>0</td>\n",
       "      <td>0</td>\n",
       "    </tr>\n",
       "    <tr>\n",
       "      <th>41</th>\n",
       "      <td>135</td>\n",
       "      <td>41</td>\n",
       "      <td>173.1</td>\n",
       "      <td>203.9</td>\n",
       "      <td>122.2</td>\n",
       "      <td>14.6</td>\n",
       "      <td>0</td>\n",
       "      <td>85</td>\n",
       "      <td>29.43</td>\n",
       "      <td>107</td>\n",
       "      <td>17.33</td>\n",
       "      <td>78</td>\n",
       "      <td>5.50</td>\n",
       "      <td>15</td>\n",
       "      <td>3.94</td>\n",
       "      <td>1</td>\n",
       "      <td>1</td>\n",
       "      <td>1</td>\n",
       "    </tr>\n",
       "    <tr>\n",
       "      <th>1016</th>\n",
       "      <td>41</td>\n",
       "      <td>0</td>\n",
       "      <td>143.6</td>\n",
       "      <td>152.4</td>\n",
       "      <td>194.4</td>\n",
       "      <td>8.6</td>\n",
       "      <td>1</td>\n",
       "      <td>117</td>\n",
       "      <td>24.41</td>\n",
       "      <td>108</td>\n",
       "      <td>12.95</td>\n",
       "      <td>110</td>\n",
       "      <td>8.75</td>\n",
       "      <td>3</td>\n",
       "      <td>2.32</td>\n",
       "      <td>0</td>\n",
       "      <td>0</td>\n",
       "      <td>0</td>\n",
       "    </tr>\n",
       "  </tbody>\n",
       "</table>\n",
       "</div>"
      ],
      "text/plain": [
       "      Account_Length  Vmail_Message  Day_Mins  Eve_Mins  Night_Mins  \\\n",
       "3063              63             25     190.0     116.6       141.5   \n",
       "1294              66              0      87.6     262.0       184.6   \n",
       "2325             110              0     271.1     237.0       239.9   \n",
       "41               135             41     173.1     203.9       122.2   \n",
       "1016              41              0     143.6     152.4       194.4   \n",
       "\n",
       "      Intl_Mins  CustServ_Calls  Day_Calls  Day_Charge  Eve_Calls  Eve_Charge  \\\n",
       "3063       12.2               1        137       32.30         76        9.91   \n",
       "1294        9.2               1         76       14.89        111       22.27   \n",
       "2325        9.8               2        108       46.09        122       20.15   \n",
       "41         14.6               0         85       29.43        107       17.33   \n",
       "1016        8.6               1        117       24.41        108       12.95   \n",
       "\n",
       "      Night_Calls  Night_Charge  Intl_Calls  Intl_Charge  Churn_yes  \\\n",
       "3063          110          6.37           2         3.29          0   \n",
       "1294          125          8.31           5         2.48          0   \n",
       "2325          122         10.80           5         2.65          1   \n",
       "41             78          5.50          15         3.94          1   \n",
       "1016          110          8.75           3         2.32          0   \n",
       "\n",
       "      Intl_Plan_yes  Vmail_Plan_yes  \n",
       "3063              0               1  \n",
       "1294              0               0  \n",
       "2325              0               0  \n",
       "41                1               1  \n",
       "1016              0               0  "
      ]
     },
     "metadata": {},
     "output_type": "display_data"
    }
   ],
   "source": [
    "df = pd.get_dummies(df, drop_first=True)\n",
    "display(df.sample(5))"
   ]
  },
  {
   "cell_type": "code",
   "execution_count": 157,
   "metadata": {},
   "outputs": [
    {
     "data": {
      "text/plain": [
       "(3333, 18)"
      ]
     },
     "execution_count": 157,
     "metadata": {},
     "output_type": "execute_result"
    }
   ],
   "source": [
    "df.shape"
   ]
  },
  {
   "cell_type": "markdown",
   "metadata": {},
   "source": [
    "### Data Transformation"
   ]
  },
  {
   "cell_type": "code",
   "execution_count": 158,
   "metadata": {},
   "outputs": [],
   "source": [
    "# normalize the feature columns"
   ]
  },
  {
   "cell_type": "code",
   "execution_count": 159,
   "metadata": {},
   "outputs": [],
   "source": [
    "scaler = MinMaxScaler()\n",
    "\n",
    "for col in df.columns:\n",
    "    df[col] = scaler.fit_transform(df[[col]])"
   ]
  },
  {
   "cell_type": "code",
   "execution_count": 160,
   "metadata": {},
   "outputs": [
    {
     "data": {
      "text/html": [
       "<div>\n",
       "<style scoped>\n",
       "    .dataframe tbody tr th:only-of-type {\n",
       "        vertical-align: middle;\n",
       "    }\n",
       "\n",
       "    .dataframe tbody tr th {\n",
       "        vertical-align: top;\n",
       "    }\n",
       "\n",
       "    .dataframe thead th {\n",
       "        text-align: right;\n",
       "    }\n",
       "</style>\n",
       "<table border=\"1\" class=\"dataframe\">\n",
       "  <thead>\n",
       "    <tr style=\"text-align: right;\">\n",
       "      <th></th>\n",
       "      <th>Account_Length</th>\n",
       "      <th>Vmail_Message</th>\n",
       "      <th>Day_Mins</th>\n",
       "      <th>Eve_Mins</th>\n",
       "      <th>Night_Mins</th>\n",
       "      <th>Intl_Mins</th>\n",
       "      <th>CustServ_Calls</th>\n",
       "      <th>Day_Calls</th>\n",
       "      <th>Day_Charge</th>\n",
       "      <th>Eve_Calls</th>\n",
       "      <th>Eve_Charge</th>\n",
       "      <th>Night_Calls</th>\n",
       "      <th>Night_Charge</th>\n",
       "      <th>Intl_Calls</th>\n",
       "      <th>Intl_Charge</th>\n",
       "      <th>Churn_yes</th>\n",
       "      <th>Intl_Plan_yes</th>\n",
       "      <th>Vmail_Plan_yes</th>\n",
       "    </tr>\n",
       "  </thead>\n",
       "  <tbody>\n",
       "    <tr>\n",
       "      <th>0</th>\n",
       "      <td>0.524793</td>\n",
       "      <td>0.490196</td>\n",
       "      <td>0.755701</td>\n",
       "      <td>0.542755</td>\n",
       "      <td>0.595750</td>\n",
       "      <td>0.500</td>\n",
       "      <td>0.111111</td>\n",
       "      <td>0.666667</td>\n",
       "      <td>0.755701</td>\n",
       "      <td>0.582353</td>\n",
       "      <td>0.542866</td>\n",
       "      <td>0.408451</td>\n",
       "      <td>0.595935</td>\n",
       "      <td>0.15</td>\n",
       "      <td>0.500000</td>\n",
       "      <td>0.0</td>\n",
       "      <td>0.0</td>\n",
       "      <td>1.0</td>\n",
       "    </tr>\n",
       "    <tr>\n",
       "      <th>1</th>\n",
       "      <td>0.438017</td>\n",
       "      <td>0.509804</td>\n",
       "      <td>0.460661</td>\n",
       "      <td>0.537531</td>\n",
       "      <td>0.621840</td>\n",
       "      <td>0.685</td>\n",
       "      <td>0.111111</td>\n",
       "      <td>0.745455</td>\n",
       "      <td>0.460597</td>\n",
       "      <td>0.605882</td>\n",
       "      <td>0.537690</td>\n",
       "      <td>0.492958</td>\n",
       "      <td>0.622236</td>\n",
       "      <td>0.15</td>\n",
       "      <td>0.685185</td>\n",
       "      <td>0.0</td>\n",
       "      <td>0.0</td>\n",
       "      <td>1.0</td>\n",
       "    </tr>\n",
       "    <tr>\n",
       "      <th>2</th>\n",
       "      <td>0.561983</td>\n",
       "      <td>0.000000</td>\n",
       "      <td>0.693843</td>\n",
       "      <td>0.333242</td>\n",
       "      <td>0.374933</td>\n",
       "      <td>0.610</td>\n",
       "      <td>0.000000</td>\n",
       "      <td>0.690909</td>\n",
       "      <td>0.693830</td>\n",
       "      <td>0.647059</td>\n",
       "      <td>0.333225</td>\n",
       "      <td>0.500000</td>\n",
       "      <td>0.375374</td>\n",
       "      <td>0.25</td>\n",
       "      <td>0.609259</td>\n",
       "      <td>0.0</td>\n",
       "      <td>0.0</td>\n",
       "      <td>0.0</td>\n",
       "    </tr>\n",
       "    <tr>\n",
       "      <th>3</th>\n",
       "      <td>0.342975</td>\n",
       "      <td>0.000000</td>\n",
       "      <td>0.853478</td>\n",
       "      <td>0.170195</td>\n",
       "      <td>0.467187</td>\n",
       "      <td>0.330</td>\n",
       "      <td>0.222222</td>\n",
       "      <td>0.430303</td>\n",
       "      <td>0.853454</td>\n",
       "      <td>0.517647</td>\n",
       "      <td>0.170171</td>\n",
       "      <td>0.394366</td>\n",
       "      <td>0.467424</td>\n",
       "      <td>0.35</td>\n",
       "      <td>0.329630</td>\n",
       "      <td>0.0</td>\n",
       "      <td>1.0</td>\n",
       "      <td>0.0</td>\n",
       "    </tr>\n",
       "    <tr>\n",
       "      <th>4</th>\n",
       "      <td>0.305785</td>\n",
       "      <td>0.000000</td>\n",
       "      <td>0.475200</td>\n",
       "      <td>0.407754</td>\n",
       "      <td>0.440290</td>\n",
       "      <td>0.505</td>\n",
       "      <td>0.333333</td>\n",
       "      <td>0.684848</td>\n",
       "      <td>0.475184</td>\n",
       "      <td>0.717647</td>\n",
       "      <td>0.407959</td>\n",
       "      <td>0.619718</td>\n",
       "      <td>0.440526</td>\n",
       "      <td>0.15</td>\n",
       "      <td>0.505556</td>\n",
       "      <td>0.0</td>\n",
       "      <td>1.0</td>\n",
       "      <td>0.0</td>\n",
       "    </tr>\n",
       "    <tr>\n",
       "      <th>...</th>\n",
       "      <td>...</td>\n",
       "      <td>...</td>\n",
       "      <td>...</td>\n",
       "      <td>...</td>\n",
       "      <td>...</td>\n",
       "      <td>...</td>\n",
       "      <td>...</td>\n",
       "      <td>...</td>\n",
       "      <td>...</td>\n",
       "      <td>...</td>\n",
       "      <td>...</td>\n",
       "      <td>...</td>\n",
       "      <td>...</td>\n",
       "      <td>...</td>\n",
       "      <td>...</td>\n",
       "      <td>...</td>\n",
       "      <td>...</td>\n",
       "      <td>...</td>\n",
       "    </tr>\n",
       "    <tr>\n",
       "      <th>3328</th>\n",
       "      <td>0.789256</td>\n",
       "      <td>0.705882</td>\n",
       "      <td>0.445268</td>\n",
       "      <td>0.592521</td>\n",
       "      <td>0.688273</td>\n",
       "      <td>0.495</td>\n",
       "      <td>0.222222</td>\n",
       "      <td>0.466667</td>\n",
       "      <td>0.445171</td>\n",
       "      <td>0.741176</td>\n",
       "      <td>0.592688</td>\n",
       "      <td>0.352113</td>\n",
       "      <td>0.688583</td>\n",
       "      <td>0.30</td>\n",
       "      <td>0.494444</td>\n",
       "      <td>0.0</td>\n",
       "      <td>0.0</td>\n",
       "      <td>1.0</td>\n",
       "    </tr>\n",
       "    <tr>\n",
       "      <th>3329</th>\n",
       "      <td>0.276860</td>\n",
       "      <td>0.000000</td>\n",
       "      <td>0.658780</td>\n",
       "      <td>0.421776</td>\n",
       "      <td>0.452125</td>\n",
       "      <td>0.480</td>\n",
       "      <td>0.333333</td>\n",
       "      <td>0.345455</td>\n",
       "      <td>0.658786</td>\n",
       "      <td>0.323529</td>\n",
       "      <td>0.421870</td>\n",
       "      <td>0.633803</td>\n",
       "      <td>0.452481</td>\n",
       "      <td>0.20</td>\n",
       "      <td>0.479630</td>\n",
       "      <td>0.0</td>\n",
       "      <td>0.0</td>\n",
       "      <td>0.0</td>\n",
       "    </tr>\n",
       "    <tr>\n",
       "      <th>3330</th>\n",
       "      <td>0.111570</td>\n",
       "      <td>0.000000</td>\n",
       "      <td>0.515393</td>\n",
       "      <td>0.794061</td>\n",
       "      <td>0.453739</td>\n",
       "      <td>0.705</td>\n",
       "      <td>0.222222</td>\n",
       "      <td>0.660606</td>\n",
       "      <td>0.515426</td>\n",
       "      <td>0.341176</td>\n",
       "      <td>0.794241</td>\n",
       "      <td>0.408451</td>\n",
       "      <td>0.454274</td>\n",
       "      <td>0.30</td>\n",
       "      <td>0.705556</td>\n",
       "      <td>0.0</td>\n",
       "      <td>0.0</td>\n",
       "      <td>0.0</td>\n",
       "    </tr>\n",
       "    <tr>\n",
       "      <th>3331</th>\n",
       "      <td>0.756198</td>\n",
       "      <td>0.000000</td>\n",
       "      <td>0.609464</td>\n",
       "      <td>0.438823</td>\n",
       "      <td>0.311996</td>\n",
       "      <td>0.250</td>\n",
       "      <td>0.222222</td>\n",
       "      <td>0.636364</td>\n",
       "      <td>0.609490</td>\n",
       "      <td>0.494118</td>\n",
       "      <td>0.439016</td>\n",
       "      <td>0.732394</td>\n",
       "      <td>0.312014</td>\n",
       "      <td>0.50</td>\n",
       "      <td>0.250000</td>\n",
       "      <td>0.0</td>\n",
       "      <td>1.0</td>\n",
       "      <td>0.0</td>\n",
       "    </tr>\n",
       "    <tr>\n",
       "      <th>3332</th>\n",
       "      <td>0.301653</td>\n",
       "      <td>0.490196</td>\n",
       "      <td>0.668187</td>\n",
       "      <td>0.731097</td>\n",
       "      <td>0.586875</td>\n",
       "      <td>0.685</td>\n",
       "      <td>0.000000</td>\n",
       "      <td>0.684848</td>\n",
       "      <td>0.668176</td>\n",
       "      <td>0.482353</td>\n",
       "      <td>0.731155</td>\n",
       "      <td>0.309859</td>\n",
       "      <td>0.586970</td>\n",
       "      <td>0.20</td>\n",
       "      <td>0.685185</td>\n",
       "      <td>0.0</td>\n",
       "      <td>0.0</td>\n",
       "      <td>1.0</td>\n",
       "    </tr>\n",
       "  </tbody>\n",
       "</table>\n",
       "<p>3333 rows × 18 columns</p>\n",
       "</div>"
      ],
      "text/plain": [
       "      Account_Length  Vmail_Message  Day_Mins  Eve_Mins  Night_Mins  \\\n",
       "0           0.524793       0.490196  0.755701  0.542755    0.595750   \n",
       "1           0.438017       0.509804  0.460661  0.537531    0.621840   \n",
       "2           0.561983       0.000000  0.693843  0.333242    0.374933   \n",
       "3           0.342975       0.000000  0.853478  0.170195    0.467187   \n",
       "4           0.305785       0.000000  0.475200  0.407754    0.440290   \n",
       "...              ...            ...       ...       ...         ...   \n",
       "3328        0.789256       0.705882  0.445268  0.592521    0.688273   \n",
       "3329        0.276860       0.000000  0.658780  0.421776    0.452125   \n",
       "3330        0.111570       0.000000  0.515393  0.794061    0.453739   \n",
       "3331        0.756198       0.000000  0.609464  0.438823    0.311996   \n",
       "3332        0.301653       0.490196  0.668187  0.731097    0.586875   \n",
       "\n",
       "      Intl_Mins  CustServ_Calls  Day_Calls  Day_Charge  Eve_Calls  Eve_Charge  \\\n",
       "0         0.500        0.111111   0.666667    0.755701   0.582353    0.542866   \n",
       "1         0.685        0.111111   0.745455    0.460597   0.605882    0.537690   \n",
       "2         0.610        0.000000   0.690909    0.693830   0.647059    0.333225   \n",
       "3         0.330        0.222222   0.430303    0.853454   0.517647    0.170171   \n",
       "4         0.505        0.333333   0.684848    0.475184   0.717647    0.407959   \n",
       "...         ...             ...        ...         ...        ...         ...   \n",
       "3328      0.495        0.222222   0.466667    0.445171   0.741176    0.592688   \n",
       "3329      0.480        0.333333   0.345455    0.658786   0.323529    0.421870   \n",
       "3330      0.705        0.222222   0.660606    0.515426   0.341176    0.794241   \n",
       "3331      0.250        0.222222   0.636364    0.609490   0.494118    0.439016   \n",
       "3332      0.685        0.000000   0.684848    0.668176   0.482353    0.731155   \n",
       "\n",
       "      Night_Calls  Night_Charge  Intl_Calls  Intl_Charge  Churn_yes  \\\n",
       "0        0.408451      0.595935        0.15     0.500000        0.0   \n",
       "1        0.492958      0.622236        0.15     0.685185        0.0   \n",
       "2        0.500000      0.375374        0.25     0.609259        0.0   \n",
       "3        0.394366      0.467424        0.35     0.329630        0.0   \n",
       "4        0.619718      0.440526        0.15     0.505556        0.0   \n",
       "...           ...           ...         ...          ...        ...   \n",
       "3328     0.352113      0.688583        0.30     0.494444        0.0   \n",
       "3329     0.633803      0.452481        0.20     0.479630        0.0   \n",
       "3330     0.408451      0.454274        0.30     0.705556        0.0   \n",
       "3331     0.732394      0.312014        0.50     0.250000        0.0   \n",
       "3332     0.309859      0.586970        0.20     0.685185        0.0   \n",
       "\n",
       "      Intl_Plan_yes  Vmail_Plan_yes  \n",
       "0               0.0             1.0  \n",
       "1               0.0             1.0  \n",
       "2               0.0             0.0  \n",
       "3               1.0             0.0  \n",
       "4               1.0             0.0  \n",
       "...             ...             ...  \n",
       "3328            0.0             1.0  \n",
       "3329            0.0             0.0  \n",
       "3330            0.0             0.0  \n",
       "3331            1.0             0.0  \n",
       "3332            0.0             1.0  \n",
       "\n",
       "[3333 rows x 18 columns]"
      ]
     },
     "metadata": {},
     "output_type": "display_data"
    }
   ],
   "source": [
    "display(df)"
   ]
  },
  {
   "cell_type": "markdown",
   "metadata": {},
   "source": [
    "### Findings\n",
    "Data Transformation doesn't improve model performance of this dataset"
   ]
  },
  {
   "cell_type": "markdown",
   "metadata": {},
   "source": [
    "### Separating the features and target variable"
   ]
  },
  {
   "cell_type": "code",
   "execution_count": 161,
   "metadata": {},
   "outputs": [
    {
     "name": "stdout",
     "output_type": "stream",
     "text": [
      "(3333, 17) (3333, 1)\n"
     ]
    }
   ],
   "source": [
    "target = ['Churn_yes']\n",
    "\n",
    "X = df.drop('Churn_yes', axis=1)\n",
    "y = df[target]\n",
    "\n",
    "print(X.shape, y.shape)"
   ]
  },
  {
   "cell_type": "markdown",
   "metadata": {},
   "source": [
    "### Create train and test set"
   ]
  },
  {
   "cell_type": "code",
   "execution_count": 162,
   "metadata": {},
   "outputs": [
    {
     "name": "stdout",
     "output_type": "stream",
     "text": [
      "(2666, 17) (667, 17) (2666, 1) (667, 1)\n"
     ]
    }
   ],
   "source": [
    "# Split the dataset intro train and test set\n",
    "X_train, X_test, y_train, y_test = train_test_split(X, \n",
    "                                                    y, \n",
    "                                                    test_size=0.2, \n",
    "                                                    random_state=42, \n",
    "                                                    stratify=y)\n",
    "\n",
    "print(X_train.shape, X_test.shape, y_train.shape, y_test.shape)"
   ]
  },
  {
   "cell_type": "markdown",
   "metadata": {},
   "source": [
    "### Grid Search and Cross-Validation with Decision Tree Classifier"
   ]
  },
  {
   "cell_type": "code",
   "execution_count": 163,
   "metadata": {},
   "outputs": [],
   "source": [
    "parameters = {'criterion': ['gini','entropy'],\n",
    "              'max_depth': [3, 4, 5, 6, 7]}\n",
    "\n",
    "model = DecisionTreeClassifier(random_state=42)\n",
    "grid_search = GridSearchCV(estimator = model,\n",
    "                           param_grid = parameters,\n",
    "                           scoring = \"accuracy\",\n",
    "                           cv=5,\n",
    "                           n_jobs=-1)\n",
    "\n",
    "# fit the model with the best hyper-parameters\n",
    "grid_result = grid_search.fit(X_train, y_train)"
   ]
  },
  {
   "cell_type": "markdown",
   "metadata": {},
   "source": [
    "### Best hyperparameters in the grid search"
   ]
  },
  {
   "cell_type": "code",
   "execution_count": 164,
   "metadata": {},
   "outputs": [
    {
     "data": {
      "text/plain": [
       "{'criterion': 'gini', 'max_depth': 6}"
      ]
     },
     "execution_count": 164,
     "metadata": {},
     "output_type": "execute_result"
    }
   ],
   "source": [
    "grid_result.best_params_"
   ]
  },
  {
   "cell_type": "markdown",
   "metadata": {},
   "source": [
    "### Tree Diagram"
   ]
  },
  {
   "cell_type": "code",
   "execution_count": 139,
   "metadata": {
    "scrolled": true
   },
   "outputs": [
    {
     "data": {
      "image/png": "[encoded data removed]",
      "text/plain": [
       "<Figure size 1152x1152 with 1 Axes>"
      ]
     },
     "metadata": {
      "needs_background": "light"
     },
     "output_type": "display_data"
    }
   ],
   "source": [
    "fig = plt.figure(figsize = (16, 16))\n",
    "plot_tree(grid_result.best_estimator_, \n",
    "          filled=True,\n",
    "          rounded=True,\n",
    "          class_names = [\" Churn_yes\", \"Churn_no\"],\n",
    "          feature_names = X.columns,\n",
    "          max_depth=2, \n",
    "          fontsize=15)\n",
    "fig.savefig('../Plots/Tree diagram plot.jpg', bbox_inches='tight', dpi=150)\n",
    "plt.show()"
   ]
  },
  {
   "cell_type": "markdown",
   "metadata": {},
   "source": [
    "### Model Performance Evaluation"
   ]
  },
  {
   "cell_type": "code",
   "execution_count": 140,
   "metadata": {},
   "outputs": [],
   "source": [
    "# Confusion Matrix"
   ]
  },
  {
   "cell_type": "code",
   "execution_count": 141,
   "metadata": {},
   "outputs": [
    {
     "data": {
      "image/png": "[encoded data removed]",
      "text/plain": [
       "<Figure size 432x288 with 2 Axes>"
      ]
     },
     "metadata": {
      "needs_background": "light"
     },
     "output_type": "display_data"
    }
   ],
   "source": [
    "plot_confusion_matrix(grid_result, \n",
    "                      X_test, \n",
    "                      y_test, \n",
    "                      display_labels=[\"Will not Churn\", \"Will Churn\"],\n",
    "                      cmap='Blues')\n",
    "plt.show()"
   ]
  },
  {
   "cell_type": "markdown",
   "metadata": {},
   "source": [
    "### Prediction"
   ]
  },
  {
   "cell_type": "code",
   "execution_count": 142,
   "metadata": {},
   "outputs": [],
   "source": [
    "y_pred = grid_result.predict(X_test)"
   ]
  },
  {
   "cell_type": "markdown",
   "metadata": {},
   "source": [
    "### Calculate accuracy"
   ]
  },
  {
   "cell_type": "code",
   "execution_count": 143,
   "metadata": {},
   "outputs": [
    {
     "name": "stdout",
     "output_type": "stream",
     "text": [
      "Accuracy:  0.9265367316341829\n"
     ]
    }
   ],
   "source": [
    "print('Accuracy: ', accuracy_score(y_test, y_pred))"
   ]
  },
  {
   "cell_type": "markdown",
   "metadata": {},
   "source": [
    "### Prediction Comparison with the test data"
   ]
  },
  {
   "cell_type": "code",
   "execution_count": 144,
   "metadata": {},
   "outputs": [
    {
     "data": {
      "text/html": [
       "<div>\n",
       "<style scoped>\n",
       "    .dataframe tbody tr th:only-of-type {\n",
       "        vertical-align: middle;\n",
       "    }\n",
       "\n",
       "    .dataframe tbody tr th {\n",
       "        vertical-align: top;\n",
       "    }\n",
       "\n",
       "    .dataframe thead th {\n",
       "        text-align: right;\n",
       "    }\n",
       "</style>\n",
       "<table border=\"1\" class=\"dataframe\">\n",
       "  <thead>\n",
       "    <tr style=\"text-align: right;\">\n",
       "      <th></th>\n",
       "      <th>Churn_yes</th>\n",
       "      <th>probability</th>\n",
       "      <th>predicted_Churn</th>\n",
       "    </tr>\n",
       "  </thead>\n",
       "  <tbody>\n",
       "    <tr>\n",
       "      <th>2488</th>\n",
       "      <td>0.0</td>\n",
       "      <td>0.02</td>\n",
       "      <td>0.0</td>\n",
       "    </tr>\n",
       "    <tr>\n",
       "      <th>2940</th>\n",
       "      <td>0.0</td>\n",
       "      <td>0.02</td>\n",
       "      <td>0.0</td>\n",
       "    </tr>\n",
       "    <tr>\n",
       "      <th>1821</th>\n",
       "      <td>0.0</td>\n",
       "      <td>0.00</td>\n",
       "      <td>0.0</td>\n",
       "    </tr>\n",
       "    <tr>\n",
       "      <th>3260</th>\n",
       "      <td>0.0</td>\n",
       "      <td>0.07</td>\n",
       "      <td>0.0</td>\n",
       "    </tr>\n",
       "    <tr>\n",
       "      <th>196</th>\n",
       "      <td>0.0</td>\n",
       "      <td>0.02</td>\n",
       "      <td>0.0</td>\n",
       "    </tr>\n",
       "    <tr>\n",
       "      <th>2102</th>\n",
       "      <td>0.0</td>\n",
       "      <td>0.07</td>\n",
       "      <td>0.0</td>\n",
       "    </tr>\n",
       "    <tr>\n",
       "      <th>959</th>\n",
       "      <td>0.0</td>\n",
       "      <td>0.02</td>\n",
       "      <td>0.0</td>\n",
       "    </tr>\n",
       "    <tr>\n",
       "      <th>1210</th>\n",
       "      <td>0.0</td>\n",
       "      <td>0.00</td>\n",
       "      <td>0.0</td>\n",
       "    </tr>\n",
       "    <tr>\n",
       "      <th>1620</th>\n",
       "      <td>0.0</td>\n",
       "      <td>0.02</td>\n",
       "      <td>0.0</td>\n",
       "    </tr>\n",
       "    <tr>\n",
       "      <th>3259</th>\n",
       "      <td>0.0</td>\n",
       "      <td>0.02</td>\n",
       "      <td>0.0</td>\n",
       "    </tr>\n",
       "  </tbody>\n",
       "</table>\n",
       "</div>"
      ],
      "text/plain": [
       "      Churn_yes  probability  predicted_Churn\n",
       "2488        0.0         0.02              0.0\n",
       "2940        0.0         0.02              0.0\n",
       "1821        0.0         0.00              0.0\n",
       "3260        0.0         0.07              0.0\n",
       "196         0.0         0.02              0.0\n",
       "2102        0.0         0.07              0.0\n",
       "959         0.0         0.02              0.0\n",
       "1210        0.0         0.00              0.0\n",
       "1620        0.0         0.02              0.0\n",
       "3259        0.0         0.02              0.0"
      ]
     },
     "metadata": {},
     "output_type": "display_data"
    }
   ],
   "source": [
    "y_test['probability'] = np.round(grid_result.predict_proba(X_test)[:,1], 2)\n",
    "y_test['predicted_Churn'] = y_pred\n",
    "\n",
    "display(y_test.sample(10))"
   ]
  },
  {
   "cell_type": "markdown",
   "metadata": {},
   "source": [
    "### ROC: Receiver Operating Characterisitcs and AUC: Area Under the Curve"
   ]
  },
  {
   "cell_type": "code",
   "execution_count": 145,
   "metadata": {},
   "outputs": [
    {
     "data": {
      "image/png": "[encoded data removed]",
      "text/plain": [
       "<Figure size 1152x720 with 1 Axes>"
      ]
     },
     "metadata": {
      "needs_background": "light"
     },
     "output_type": "display_data"
    }
   ],
   "source": [
    "fpr, tpr, thr = roc_curve(y_test['Churn_yes'], \n",
    "                          y_test['probability'])\n",
    "auc = np.round(roc_auc_score(y_test['Churn_yes'], \n",
    "                             y_test['predicted_Churn']), 2)\n",
    "\n",
    "fig = plt.figure(figsize=(16, 10))\n",
    "plt.plot(fpr, \n",
    "         tpr, \n",
    "         color='green', \n",
    "         lw=2, \n",
    "         label=\"Curve Area = \" +str(auc))\n",
    "\n",
    "plt.plot([0, 1], [0, 1], color='blue', lw=2, linestyle='--')\n",
    "plt.xlabel('False Positive Rate (FPR)')\n",
    "plt.ylabel('True Positive Rate (TPR)')\n",
    "plt.title('ROC curve')\n",
    "plt.legend(loc=\"lower right\")\n",
    "\n",
    "fig.savefig('../Plots/ROC curve plot.jpg', bbox_inches='tight', dpi=150)\n",
    "plt.show()"
   ]
  },
  {
   "cell_type": "markdown",
   "metadata": {},
   "source": [
    "### Classification report"
   ]
  },
  {
   "cell_type": "code",
   "execution_count": 146,
   "metadata": {},
   "outputs": [],
   "source": [
    "class_report = classification_report(y_test['Churn_yes'], \n",
    "                                     y_test['predicted_Churn'])"
   ]
  },
  {
   "cell_type": "code",
   "execution_count": 147,
   "metadata": {},
   "outputs": [
    {
     "name": "stdout",
     "output_type": "stream",
     "text": [
      "Classification Report: \n",
      "               precision    recall  f1-score   support\n",
      "\n",
      "         0.0       0.94      0.97      0.96       570\n",
      "         1.0       0.80      0.66      0.72        97\n",
      "\n",
      "    accuracy                           0.93       667\n",
      "   macro avg       0.87      0.82      0.84       667\n",
      "weighted avg       0.92      0.93      0.92       667\n",
      "\n"
     ]
    }
   ],
   "source": [
    "print(\"Classification Report: \\n\", class_report)"
   ]
  },
  {
   "cell_type": "markdown",
   "metadata": {},
   "source": [
    "### Findings"
   ]
  },
  {
   "cell_type": "markdown",
   "metadata": {},
   "source": [
    "Since the value of precision, recall, f1-score and accuracy is closer to 1, so the decision tree model performs well in this dataset"
   ]
  },
  {
   "cell_type": "code",
   "execution_count": 148,
   "metadata": {},
   "outputs": [],
   "source": [
    "##### END #####"
   ]
  },
  {
   "cell_type": "code",
   "execution_count": null,
   "metadata": {},
   "outputs": [],
   "source": []
  }
 ],
 "metadata": {
  "interpreter": {
   "hash": "40c2fac8deeaeec80c11f86338dc80eaddcd45c6ab0761f221b780b5a4c0da1b"
  },
  "kernelspec": {
   "display_name": "Python 3 (ipykernel)",
   "language": "python",
   "name": "python3"
  },
  "language_info": {
   "codemirror_mode": {
    "name": "ipython",
    "version": 3
   },
   "file_extension": ".py",
   "mimetype": "text/x-python",
   "name": "python",
   "nbconvert_exporter": "python",
   "pygments_lexer": "ipython3",
   "version": "3.8.8"
  }
 },
 "nbformat": 4,
 "nbformat_minor": 2
}
